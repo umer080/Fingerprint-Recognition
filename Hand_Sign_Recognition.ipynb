{
 "cells": [
  {
   "cell_type": "code",
   "execution_count": 1,
   "id": "05478099",
   "metadata": {},
   "outputs": [],
   "source": [
    "import h5py\n",
    "import numpy as np\n",
    "import tensorflow as tf"
   ]
  },
  {
   "cell_type": "code",
   "execution_count": 2,
   "id": "e9cd6dcb",
   "metadata": {},
   "outputs": [],
   "source": [
    "signs_data_training = 'Signs_Data_Training.h5'\n",
    "signs_data_testing = 'Signs_Data_Testing.h5'"
   ]
  },
  {
   "cell_type": "code",
   "execution_count": 3,
   "id": "c0d0c30a",
   "metadata": {},
   "outputs": [],
   "source": [
    "with h5py.File(signs_data_training, 'r') as file:\n",
    "    X_train = list(file.keys())[1]\n",
    "    y_train = list(file.keys())[2]\n",
    "    \n",
    "    X_train = np.array(file[X_train])\n",
    "    y_train = np.array(file[y_train])"
   ]
  },
  {
   "cell_type": "code",
   "execution_count": 4,
   "id": "87177d9e",
   "metadata": {},
   "outputs": [],
   "source": [
    "with h5py.File(signs_data_testing, 'r') as file:\n",
    "    X_test = list(file.keys())[1]\n",
    "    y_test = list(file.keys())[2]\n",
    "    \n",
    "    X_test = np.array(file[X_test])\n",
    "    y_test = np.array(file[y_test])"
   ]
  },
  {
   "cell_type": "code",
   "execution_count": 5,
   "id": "1017657e",
   "metadata": {},
   "outputs": [
    {
     "name": "stdout",
     "output_type": "stream",
     "text": [
      "Size of X_train:  (1080, 64, 64, 3)\n",
      "Size of y_train:  (1080,)\n",
      "Size of X_test:  (120, 64, 64, 3)\n",
      "Size of y_test:  (120,)\n"
     ]
    }
   ],
   "source": [
    "print('Size of X_train: ', X_train.shape)\n",
    "print('Size of y_train: ', y_train.shape)\n",
    "\n",
    "print('Size of X_test: ', X_test.shape)\n",
    "print('Size of y_test: ', y_test.shape)"
   ]
  },
  {
   "cell_type": "code",
   "execution_count": 6,
   "id": "af271892",
   "metadata": {},
   "outputs": [],
   "source": [
    "X_train = X_train / 255.0\n",
    "X_test = X_test / 255.0"
   ]
  },
  {
   "cell_type": "code",
   "execution_count": 7,
   "id": "8d0af1ef",
   "metadata": {},
   "outputs": [
    {
     "name": "stdout",
     "output_type": "stream",
     "text": [
      "y_train shape:  (1080, 6)\n",
      "y_test shape:  (120, 6)\n"
     ]
    }
   ],
   "source": [
    "y_train = tf.keras.utils.to_categorical(y_train, num_classes=6)\n",
    "y_test = tf.keras.utils.to_categorical(y_test, num_classes=6)\n",
    "\n",
    "print('y_train shape: ', y_train.shape)\n",
    "print('y_test shape: ', y_test.shape)"
   ]
  },
  {
   "cell_type": "code",
   "execution_count": 8,
   "id": "22bc239b",
   "metadata": {},
   "outputs": [],
   "source": [
    "model = tf.keras.models.Sequential([tf.keras.layers.Conv2D(filters=32, kernel_size=(3,3), activation='relu', input_shape=(64,64,3)),\n",
    "tf.keras.layers.Conv2D(filters=32, kernel_size=(3,3), activation='relu'),\n",
    "tf.keras.layers.MaxPool2D(pool_size=(2,2), strides=2),\n",
    "tf.keras.layers.Conv2D(filters=64, kernel_size=(3,3), activation='relu'),\n",
    "tf.keras.layers.Conv2D(filters=64, kernel_size=(3,3), activation='relu'),\n",
    "tf.keras.layers.MaxPool2D(pool_size=(2,2), strides=2),\n",
    "tf.keras.layers.Flatten(),\n",
    "tf.keras.layers.Dense(64, activation='relu'),\n",
    "tf.keras.layers.Dense(6, activation='softmax')])"
   ]
  },
  {
   "cell_type": "code",
   "execution_count": 9,
   "id": "0f71013a",
   "metadata": {},
   "outputs": [],
   "source": [
    "model.compile(loss='categorical_crossentropy', optimizer='adam', metrics=['accuracy'])"
   ]
  },
  {
   "cell_type": "code",
   "execution_count": 10,
   "id": "0bf8e691",
   "metadata": {},
   "outputs": [
    {
     "name": "stdout",
     "output_type": "stream",
     "text": [
      "Model: \"sequential\"\n",
      "_________________________________________________________________\n",
      " Layer (type)                Output Shape              Param #   \n",
      "=================================================================\n",
      " conv2d (Conv2D)             (None, 62, 62, 32)        896       \n",
      "                                                                 \n",
      " conv2d_1 (Conv2D)           (None, 60, 60, 32)        9248      \n",
      "                                                                 \n",
      " max_pooling2d (MaxPooling2D  (None, 30, 30, 32)       0         \n",
      " )                                                               \n",
      "                                                                 \n",
      " conv2d_2 (Conv2D)           (None, 28, 28, 64)        18496     \n",
      "                                                                 \n",
      " conv2d_3 (Conv2D)           (None, 26, 26, 64)        36928     \n",
      "                                                                 \n",
      " max_pooling2d_1 (MaxPooling  (None, 13, 13, 64)       0         \n",
      " 2D)                                                             \n",
      "                                                                 \n",
      " flatten (Flatten)           (None, 10816)             0         \n",
      "                                                                 \n",
      " dense (Dense)               (None, 64)                692288    \n",
      "                                                                 \n",
      " dense_1 (Dense)             (None, 6)                 390       \n",
      "                                                                 \n",
      "=================================================================\n",
      "Total params: 758,246\n",
      "Trainable params: 758,246\n",
      "Non-trainable params: 0\n",
      "_________________________________________________________________\n"
     ]
    }
   ],
   "source": [
    "model.summary()"
   ]
  },
  {
   "cell_type": "code",
   "execution_count": 11,
   "id": "219ecb0e",
   "metadata": {},
   "outputs": [
    {
     "name": "stdout",
     "output_type": "stream",
     "text": [
      "Epoch 1/24\n",
      "34/34 [==============================] - 14s 410ms/step - loss: 1.7100 - accuracy: 0.2222\n",
      "Epoch 2/24\n",
      "34/34 [==============================] - 12s 362ms/step - loss: 1.1013 - accuracy: 0.6065\n",
      "Epoch 3/24\n",
      "34/34 [==============================] - 12s 356ms/step - loss: 0.7224 - accuracy: 0.7519\n",
      "Epoch 4/24\n",
      "34/34 [==============================] - 12s 360ms/step - loss: 0.5309 - accuracy: 0.8231\n",
      "Epoch 5/24\n",
      "34/34 [==============================] - 13s 377ms/step - loss: 0.3851 - accuracy: 0.8639\n",
      "Epoch 6/24\n",
      "34/34 [==============================] - 13s 380ms/step - loss: 0.3232 - accuracy: 0.8731\n",
      "Epoch 7/24\n",
      "34/34 [==============================] - 13s 381ms/step - loss: 0.2290 - accuracy: 0.9222\n",
      "Epoch 8/24\n",
      "34/34 [==============================] - 13s 375ms/step - loss: 0.1030 - accuracy: 0.9694\n",
      "Epoch 9/24\n",
      "34/34 [==============================] - 13s 378ms/step - loss: 0.1475 - accuracy: 0.9481\n",
      "Epoch 10/24\n",
      "34/34 [==============================] - 13s 381ms/step - loss: 0.0699 - accuracy: 0.9787\n",
      "Epoch 11/24\n",
      "34/34 [==============================] - 13s 383ms/step - loss: 0.0406 - accuracy: 0.9889\n",
      "Epoch 12/24\n",
      "34/34 [==============================] - 13s 380ms/step - loss: 0.0981 - accuracy: 0.9648\n",
      "Epoch 13/24\n",
      "34/34 [==============================] - 13s 378ms/step - loss: 0.0747 - accuracy: 0.9759\n",
      "Epoch 14/24\n",
      "34/34 [==============================] - 13s 376ms/step - loss: 0.0286 - accuracy: 0.9907\n",
      "Epoch 15/24\n",
      "34/34 [==============================] - 13s 383ms/step - loss: 0.0124 - accuracy: 0.9972\n",
      "Epoch 16/24\n",
      "34/34 [==============================] - 13s 379ms/step - loss: 0.0076 - accuracy: 0.9972\n",
      "Epoch 17/24\n",
      "34/34 [==============================] - 13s 377ms/step - loss: 0.0018 - accuracy: 1.0000\n",
      "Epoch 18/24\n",
      "34/34 [==============================] - 13s 382ms/step - loss: 6.8565e-04 - accuracy: 1.0000\n",
      "Epoch 19/24\n",
      "34/34 [==============================] - 13s 381ms/step - loss: 4.2099e-04 - accuracy: 1.0000\n",
      "Epoch 20/24\n",
      "34/34 [==============================] - 13s 380ms/step - loss: 3.2633e-04 - accuracy: 1.0000\n",
      "Epoch 21/24\n",
      "34/34 [==============================] - 13s 379ms/step - loss: 2.7897e-04 - accuracy: 1.0000\n",
      "Epoch 22/24\n",
      "34/34 [==============================] - 13s 379ms/step - loss: 2.4132e-04 - accuracy: 1.0000\n",
      "Epoch 23/24\n",
      "34/34 [==============================] - 13s 382ms/step - loss: 2.1566e-04 - accuracy: 1.0000\n",
      "Epoch 24/24\n",
      "34/34 [==============================] - 13s 386ms/step - loss: 1.9295e-04 - accuracy: 1.0000\n"
     ]
    },
    {
     "data": {
      "text/plain": [
       "<keras.callbacks.History at 0x1740d345640>"
      ]
     },
     "execution_count": 11,
     "metadata": {},
     "output_type": "execute_result"
    }
   ],
   "source": [
    "model.fit(X_train, y_train, epochs=24, batch_size=32)"
   ]
  },
  {
   "cell_type": "code",
   "execution_count": 12,
   "id": "18e7ee66",
   "metadata": {},
   "outputs": [
    {
     "name": "stdout",
     "output_type": "stream",
     "text": [
      "4/4 [==============================] - 1s 74ms/step - loss: 0.5028 - accuracy: 0.9250\n"
     ]
    },
    {
     "data": {
      "text/plain": [
       "[0.502776563167572, 0.925000011920929]"
      ]
     },
     "execution_count": 12,
     "metadata": {},
     "output_type": "execute_result"
    }
   ],
   "source": [
    "model.evaluate(X_test, y_test)"
   ]
  },
  {
   "cell_type": "code",
   "execution_count": 13,
   "id": "9910d9d4",
   "metadata": {},
   "outputs": [],
   "source": [
    "model.save('model.h5')"
   ]
  },
  {
   "cell_type": "code",
   "execution_count": 14,
   "id": "5b529d61",
   "metadata": {},
   "outputs": [
    {
     "data": {
      "text/plain": [
       "0"
      ]
     },
     "execution_count": 14,
     "metadata": {},
     "output_type": "execute_result"
    }
   ],
   "source": [
    "import cv2 as cv\n",
    "\n",
    "img = cv.imread('img_resized.jpg')\n",
    "img = np.array([img])\n",
    "pred = model.predict(img)\n",
    "prediction = np.argmax(pred)\n",
    "prediction"
   ]
  },
  {
   "cell_type": "code",
   "execution_count": null,
   "id": "d3194989",
   "metadata": {},
   "outputs": [],
   "source": []
  }
 ],
 "metadata": {
  "kernelspec": {
   "display_name": "Python 3",
   "language": "python",
   "name": "python3"
  },
  "language_info": {
   "codemirror_mode": {
    "name": "ipython",
    "version": 3
   },
   "file_extension": ".py",
   "mimetype": "text/x-python",
   "name": "python",
   "nbconvert_exporter": "python",
   "pygments_lexer": "ipython3",
   "version": "3.8.8"
  }
 },
 "nbformat": 4,
 "nbformat_minor": 5
}
